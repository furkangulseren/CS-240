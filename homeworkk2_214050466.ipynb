{
 "cells": [
  {
   "cell_type": "code",
   "execution_count": 1,
   "metadata": {
    "collapsed": true
   },
   "outputs": [],
   "source": [
    "from __future__ import print_function, division\n",
    "import thinkstats2\n",
    "import thinkplot\n",
    "import nsfg"
   ]
  },
  {
   "cell_type": "code",
   "execution_count": 2,
   "metadata": {
    "collapsed": true
   },
   "outputs": [],
   "source": [
    "pres = nsfg.ReadFemResp()"
   ]
  },
  {
   "cell_type": "code",
   "execution_count": 16,
   "metadata": {
    "collapsed": false
   },
   "outputs": [
    {
     "data": {
      "text/plain": [
       "0        NaN\n",
       "1       21.0\n",
       "2       16.0\n",
       "3        NaN\n",
       "4        NaN\n",
       "5       17.0\n",
       "6        NaN\n",
       "7        NaN\n",
       "8       18.0\n",
       "9        NaN\n",
       "10      19.0\n",
       "11      25.0\n",
       "12      23.0\n",
       "13      16.0\n",
       "14      14.0\n",
       "15       NaN\n",
       "16      17.0\n",
       "17      30.0\n",
       "18       NaN\n",
       "19      16.0\n",
       "20       NaN\n",
       "21      18.0\n",
       "22      24.0\n",
       "23      24.0\n",
       "24      27.0\n",
       "25       NaN\n",
       "26       NaN\n",
       "27      22.0\n",
       "28      19.0\n",
       "29      19.0\n",
       "        ... \n",
       "7613     NaN\n",
       "7614    23.0\n",
       "7615     NaN\n",
       "7616    19.0\n",
       "7617    23.0\n",
       "7618    26.0\n",
       "7619    27.0\n",
       "7620    24.0\n",
       "7621     NaN\n",
       "7622     NaN\n",
       "7623     NaN\n",
       "7624    23.0\n",
       "7625     NaN\n",
       "7626     NaN\n",
       "7627     NaN\n",
       "7628     NaN\n",
       "7629    21.0\n",
       "7630    37.0\n",
       "7631     NaN\n",
       "7632    25.0\n",
       "7633    20.0\n",
       "7634    21.0\n",
       "7635    17.0\n",
       "7636    18.0\n",
       "7637    21.0\n",
       "7638    18.0\n",
       "7639     NaN\n",
       "7640     NaN\n",
       "7641     NaN\n",
       "7642     NaN\n",
       "Name: fmar1age, dtype: float64"
      ]
     },
     "execution_count": 16,
     "metadata": {},
     "output_type": "execute_result"
    }
   ],
   "source": [
    "pres.fmar1age"
   ]
  },
  {
   "cell_type": "code",
   "execution_count": 17,
   "metadata": {
    "collapsed": true
   },
   "outputs": [],
   "source": []
  },
  {
   "cell_type": "code",
   "execution_count": 4,
   "metadata": {
    "collapsed": false
   },
   "outputs": [
    {
     "name": "stdout",
     "output_type": "stream",
     "text": [
      "Value\tLabel\tTotal\n",
      "0\tNever Been Married\t3517\n",
      "1\t1 Time\t\t\t3436\n",
      "2\t2 Times\t\t\t582\n",
      "3\t3 Times\t\t\t90\n",
      "4\t4 Times\t\t\t15\n",
      "5\t5 Times\t\t\t3\n",
      "\ttotal\t\t\t7643\n"
     ]
    },
    {
     "data": {
      "image/png": "[encoded data removed]",
      "text/plain": [
       "<matplotlib.figure.Figure at 0x15c41da0>"
      ]
     },
     "metadata": {},
     "output_type": "display_data"
    }
   ],
   "source": [
    "list_fmarno = []\n",
    "total = 0\n",
    "for i in pres[\"fmarno\"]:\n",
    "    list_fmarno.append(i)\n",
    "    \n",
    "hist2 = thinkstats2.Hist(sorted(list_fmarno))\n",
    "print(\"Value\\tLabel\\tTotal\")\n",
    "for i in hist2:\n",
    "    if(i == 0):\n",
    "        print(str(i) + \"\\tNever Been Married\\t\" + str(hist2[i]))\n",
    "    elif(i == 1):\n",
    "        print(str(i) + \"\\t1 Time\\t\\t\\t\" + str(hist2[i]))\n",
    "    elif(i == 2):\n",
    "        print(str(i) + \"\\t2 Times\\t\\t\\t\" + str(hist2[i]))\n",
    "    elif(i == 3):\n",
    "        print(str(i) + \"\\t3 Times\\t\\t\\t\" + str(hist2[i]))\n",
    "    elif(i == 4):\n",
    "        print(str(i) + \"\\t4 Times\\t\\t\\t\" + str(hist2[i]))\n",
    "    else:\n",
    "        print(str(i) + \"\\t5 Times\\t\\t\\t\" + str(hist2[i]))\n",
    "    total += hist2[i]\n",
    "\n",
    "print(\"\\ttotal\\t\\t\\t\" + str(total))\n",
    "thinkplot.Hist(hist2)\n",
    "thinkplot.Show(xlabel='value of data', ylabel='frequency')"
   ]
  },
  {
   "cell_type": "code",
   "execution_count": null,
   "metadata": {
    "collapsed": true
   },
   "outputs": [],
   "source": []
  },
  {
   "cell_type": "code",
   "execution_count": 7,
   "metadata": {
    "collapsed": false
   },
   "outputs": [
    {
     "data": {
      "image/png": "[encoded data removed]",
      "text/plain": [
       "<matplotlib.figure.Figure at 0x13281dd8>"
      ]
     },
     "metadata": {},
     "output_type": "display_data"
    }
   ],
   "source": [
    "ages = []\n",
    "for i in pres.totincr:\n",
    "    ages.append(i)\n",
    "hist3 = thinkstats2.Hist(ages)\n",
    "\n",
    "thinkplot.Hist(hist3)\n",
    "thinkplot.Show(xlabel='value of data', ylabel='income')"
   ]
  },
  {
   "cell_type": "code",
   "execution_count": 8,
   "metadata": {
    "collapsed": false
   },
   "outputs": [
    {
     "data": {
      "image/png": "[encoded data removed]",
      "text/plain": [
       "<matplotlib.figure.Figure at 0x12334978>"
      ]
     },
     "metadata": {},
     "output_type": "display_data"
    }
   ],
   "source": [
    "neverMarried = pres[pres.fmarno == 0]\n",
    "married = pres[pres.fmarno >= 1]\n",
    "first = thinkstats2.Hist(neverMarried.totincr, label=\"Never Married\")\n",
    "second = thinkstats2.Hist(married.totincr, label=\"Married\")\n",
    "\n",
    "width = 0.25\n",
    "#thinkplot.PrePlot(2)\n",
    "thinkplot.Hist(first, align='right', width=width)\n",
    "thinkplot.Hist(second, align='left', width=width)\n",
    "thinkplot.Show(xlabel='weeks', ylabel='Count')"
   ]
  },
  {
   "cell_type": "code",
   "execution_count": 25,
   "metadata": {
    "collapsed": false
   },
   "outputs": [
    {
     "name": "stdout",
     "output_type": "stream",
     "text": [
      "Min: 1, Max: 14, Standard Deviation: 3.98080879683, Variance: 15.846838677, Mean: 8.02075632641\n"
     ]
    }
   ],
   "source": [
    "prestotincrement = pres.totincr[pres.fmarno == 0]\n",
    "print('Min: ' + str(prestotincrement.min()) + ', Max: ' + str(prestotincrement.max()) + \n",
    "      ', Standard Deviation: ' + str(prestotincrement.std()) + ', Variance: ' + str(prestotincrement.var()) + \n",
    "      ', Mean: ' + str(prestotincrement.mean()))"
   ]
  },
  {
   "cell_type": "code",
   "execution_count": 26,
   "metadata": {
    "collapsed": false
   },
   "outputs": [
    {
     "name": "stdout",
     "output_type": "stream",
     "text": [
      "Min: 1, Max: 14, Standard Deviation: 3.7146524958, Variance: 13.7986431646, Mean: 9.49515269026\n"
     ]
    }
   ],
   "source": [
    "prestotincrement = pres.totincr[pres.fmarno > 0] \n",
    "print('Min: ' + str(prestotincrement.min()) + ', Max: ' + str(prestotincrement.max()) + \n",
    "      ', Standard Deviation: ' + str(prestotincrement.std()) + ', Variance: ' + str(prestotincrement.var())\n",
    "     + ', Mean: ' + str(prestotincrement.mean()))"
   ]
  },
  {
   "cell_type": "code",
   "execution_count": null,
   "metadata": {
    "collapsed": true
   },
   "outputs": [],
   "source": []
  }
 ],
 "metadata": {
  "kernelspec": {
   "display_name": "Python 2",
   "language": "python",
   "name": "python2"
  },
  "language_info": {
   "codemirror_mode": {
    "name": "ipython",
    "version": 2
   },
   "file_extension": ".py",
   "mimetype": "text/x-python",
   "name": "python",
   "nbconvert_exporter": "python",
   "pygments_lexer": "ipython2",
   "version": "2.7.13"
  }
 },
 "nbformat": 4,
 "nbformat_minor": 2
}
